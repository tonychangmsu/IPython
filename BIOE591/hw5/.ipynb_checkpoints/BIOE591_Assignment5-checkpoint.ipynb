{
 "metadata": {
  "name": "",
  "signature": "sha256:032839a3fb39d1daf489193493a761899435fe258db76edff7a8a0ba500a2a97"
 },
 "nbformat": 3,
 "nbformat_minor": 0,
 "worksheets": [
  {
   "cells": [
    {
     "cell_type": "code",
     "collapsed": false,
     "input": [
      "'''\n",
      "Title: BIOE591 Assignment 5\n",
      "\t\tHow Hot Is Planet Earth?\n",
      "Author: Tony Chang\n",
      "Date: 10/09/2014\n",
      "Abstract: Thermodynamics and energy transfer on the Earth\n",
      "Dependencies: Python 3.X\n",
      "'''"
     ],
     "language": "python",
     "metadata": {},
     "outputs": [
      {
       "metadata": {},
       "output_type": "pyout",
       "prompt_number": 2,
       "text": [
        "'\\nTitle: BIOE591 Assignment 5\\n\\t\\tHow Hot Is Planet Earth?\\nAuthor: Tony Chang\\nDate: 10/09/2014\\nAbstract: Thermodynamics and energy transfer on the Earth\\nDependencies: Python 3.X\\n'"
       ]
      }
     ],
     "prompt_number": 2
    },
    {
     "cell_type": "markdown",
     "metadata": {},
     "source": [
      "#Assignment 5: How hot is planet Earth?"
     ]
    },
    {
     "cell_type": "markdown",
     "metadata": {},
     "source": [
      "What is the temperature of planet Earth? This is a complex question because Earth's temperature\n",
      "varies with time and especially with location. So, to be more specific, imagine a space traveller viewing our planet from afar. What temperature would she say Earth is?"
     ]
    },
    {
     "cell_type": "code",
     "collapsed": false,
     "input": [
      "omega = 1372 #the solar flux that arrives from the sun to the Earth (W/m^2)\n",
      "\n",
      "sigma = 5.67e-8 #the Stefan-Boltzmann constant (J/m^2 sec K^4)\n",
      "\n",
      "a = 0.3 #assumed albedo of Earth's atmosphere from clouds\n",
      "F_in = omega / 4 #the solar flux that actually arrive onto Earth's surface\n",
      "T_o = (((1 - a) * omega) / (4 * sigma)) ** (1 / 4) #the absolute temperature of a object (K)\n",
      "\n",
      "F = sigma * T_o ** 4 # F is the radiant energy output from the Earth's surface(J/m^2)  \n",
      "F_out = a * F_in + F #this should be the same value as F_in\n",
      "\n",
      "print('The estimated average temperature of Earth by this model is %0.1fK' %(T_o))"
     ],
     "language": "python",
     "metadata": {},
     "outputs": [
      {
       "output_type": "stream",
       "stream": "stdout",
       "text": [
        "The estimated average temperature of Earth by this model is 255.1K\n"
       ]
      }
     ],
     "prompt_number": 3
    },
    {
     "cell_type": "markdown",
     "metadata": {},
     "source": [
      "#Exercise #3: Throughout Earth's history there have been cycles and fluctuations in the planet's average temperature.\n",
      "\n",
      "Changes in Earth's solar orbit have been proposed as one cause of these variations. While the most important orbital modification of Earth's climate is most likely due to changes in the orientation of the tilt of Earth's axis with respect to orbital perihelion and aphelion (an effect too complicated to study with the globally averaged model presented here), a simpler phenomenon--change in the mean distance between Earth and the sun--can be studied. Assuming a circular orbit, by how much would the distance from Earth to the sun have to change in order to bring about 1 K increase in $T_o$? Later, in the second section of Chapter III, other possible causes of climate alteration will be discussed."
     ]
    },
    {
     "cell_type": "markdown",
     "metadata": {},
     "source": [
      "The amount of radiation the Earth receives from the sun is proportional to $\\frac{1}{dr^2}$ This is because we assume the sun is spherical, and thus the intensity (I) of the light coming from a spherical source is I = P/A where P is the total energy emitted and A is the total surface area (which for a sphere is $4 pi r^2$). Therefore, as we move the Earth further away, an inverse square fraction of the energy is received. "
     ]
    },
    {
     "cell_type": "code",
     "collapsed": false,
     "input": [
      "'''\n",
      "So we can assume that omega as a function of distance is omega_r = omega * 1/(delta_r**2). Given this we can solve what omega needs to be for a 1 K increase in the estimated average temperature of the Earth.\n",
      "'''\n",
      "r = 150e6 #Earth's current distance from the sun (km)\n",
      "inc = 1\n",
      "T_new = T_o + inc\n",
      "omega_r = ((T_new ** 4) * (4 * sigma)) / (1-a) \n",
      "\n",
      "#now we can solve for delta_r\n",
      "delta_r = (omega / omega_r) ** (1/2)\n",
      "#so our new r would have to be delta_r * r\n",
      "r_new = delta_r * r\n",
      "dr = r - r_new\n",
      "print('The Earth would have to move closer to the sun by %0.2e km or about 1.17 million kilometers to increase in average temperature by 1 degree K (assuming a circular orbit).' %(dr))"
     ],
     "language": "python",
     "metadata": {},
     "outputs": [
      {
       "output_type": "stream",
       "stream": "stdout",
       "text": [
        "The Earth would have to move closer to the sun by 1.17e+06 km or about 1.17 million kilometers to increase in average temperature by 1 degree K (assuming a circular orbit).\n"
       ]
      }
     ],
     "prompt_number": 6
    },
    {
     "cell_type": "markdown",
     "metadata": {},
     "source": [
      "Comment: This is a substantial amount of distance in order to increase the global Earth temperature, such that it conceptually rules out consideration of Milankovich cycles as a reason for the temperature increases we see today.    "
     ]
    }
   ],
   "metadata": {}
  }
 ]
}