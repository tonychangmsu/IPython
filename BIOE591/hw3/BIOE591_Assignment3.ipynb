{
 "metadata": {
  "name": "",
  "signature": "sha256:7047f4a0f457de62fd0bc028f65304e1a704f858a9a88586b83d037fd9304a65"
 },
 "nbformat": 3,
 "nbformat_minor": 0,
 "worksheets": [
  {
   "cells": [
    {
     "cell_type": "markdown",
     "metadata": {},
     "source": [
      "#The Flow of Atmospheric Pollutants between Hemispheres"
     ]
    },
    {
     "cell_type": "code",
     "collapsed": false,
     "input": [
      "'''\n",
      "Title: BIOE591 Assignment 3\n",
      "\t\tThe Flow of Atmospheric Pollutants between Hemispheres\n",
      "Author: Tony Chang\n",
      "Date: 09/22/14\n",
      "Abstract: Calculations on Ethane exchange between the Northern and Southern Hemisphere\n",
      "Dependencies: Python 3.X\n",
      "'''\n",
      "from IPython.display import Math"
     ],
     "language": "python",
     "metadata": {},
     "outputs": [],
     "prompt_number": 12
    },
    {
     "cell_type": "markdown",
     "metadata": {},
     "source": [
      "Ethane ($C_2H_6$) is a constituent of natural gas. Is is emitted to the atmosphere whenever natural gas escapes unburned at wells and other sources, a process that constitutes the only major source of ethane in the atmosphere. The average concentration of ethane in the toposphere of the northern hemisphere, $C_N$, is roughly 1.0 ppb(v), and the average concentration in the sourthern hemisphere, $C_S$ is roughly 0.5 ppb(v). Ethane can exit from the troposphere by any of three mechanisms: passage to the stratosphere; chemical reaction resulting in transformation to other chemical species; and deposition to Earth's surface (for example, by washout from the atmosphere in rain or snow). It can also leave one hemisphere's troposphere by flowing to the other's. Assuming that the total exit rate from each hemisphere's troposphere is proportional to the concentration in the respective troposphere, and knowing that 3% as much natrual gas escapes to the atmosphere unburned as is burned, estimate the net rate of ethane flow across the equator."
     ]
    },
    {
     "cell_type": "markdown",
     "metadata": {},
     "source": [
      "##Exercise 2:\n",
      "The time constant $\\alpha^{-1}$, characterizes interhemispheric mixing of air and its constituent trace gases. What is its value? Give an intuitive interpretation of this time constant."
     ]
    },
    {
     "cell_type": "code",
     "collapsed": false,
     "input": [
      "#define variables and constants\n",
      "\n",
      "nG = 6e19 #amount energy from natural gas burned per year (J/yr)\n",
      "eC = 4e7 #energy content in natural gas (J/yr)\n",
      "nD = 44.6 #moles of gas in a cubic meter\n",
      "R = nG / eC * nD #rate natural gas burned per year\n",
      "\n",
      "ePerNg = 0.06 #6% of natural gas is ethane\n",
      "escRate = 0.03 #rate natural gas escapes to atmosphere\n",
      "inFlow = R * ePerNg * escRate #total in flow (E_n + E_s)\n",
      "\n",
      "E_n = inFlow #N. hemisphere inflow\n",
      "E_s = 0 #S. hemisphere inflow (0 because we assume natural gas is mined and vented exclusively in N.hemi)\n",
      "\n",
      "molAtm = 1.8e20 #total number of moles in atmosphere (one hemisphere)\n",
      "\n",
      "X_n_ppb = 1. #northern hemisphere ethane stock (ppb)\n",
      "X_s_ppb = 0.5 #southern hemisphere ethane stock (ppb)\n",
      "\n",
      "X_n = X_n_ppb * 1e-9 * molAtm/2 #ethane stock in moles\n",
      "X_s = X_s_ppb * 1e-9 * molAtm/2 #ethane stock in moles\n",
      "\n",
      "beta = (E_n + E_s) / (X_n + X_s)#exit flow rate (three methods: (1)passage to the stratosphere, (2)chemical reaction, (3)deposition to surface)\n",
      "alpha = (((E_n * X_s) - (E_s * X_n))/(X_n + X_s))/(X_n - X_s)#linear donor controlled flows from the N to S hemispheres (moles/yr)\n",
      "\n",
      "C = 12.0107 #g(C)/mol\n",
      "H = 1.00794 #g(H)/mol\n",
      "\n",
      "mEthane = (C * 2) + (H * 6) #atomic weight of ethane C2H6\n",
      "gToTonne = 1e-6 #grams to tonnes converstion\n",
      "\n",
      "alpha_tonnes = alpha * mEthane * gToTonne\n",
      "\n",
      "Math(r'\\alpha^{-1} = %.4f \\; %s' %(1./alpha, 'years'))\n",
      "#alpha is the exponential atmospheric flow rate across the north and south hemisphere. That is, the rate of exchange between the hemispheres across the equator that follows an exponential decay curve. Alpha^-1 represents the mean lifetime for a molecule of ethane to reside in one part of the hemisphere before it is exchanged. \n"
     ],
     "language": "python",
     "metadata": {},
     "outputs": [
      {
       "latex": [
        "$$\\alpha^{-1} = 1.1211 \\; years$$"
       ],
       "metadata": {},
       "output_type": "pyout",
       "prompt_number": 19,
       "text": [
        "<IPython.core.display.Math at 0x7f7ac80e39b0>"
       ]
      }
     ],
     "prompt_number": 19
    },
    {
     "cell_type": "markdown",
     "metadata": {},
     "source": [
      "$\\alpha$ is the exponential atmospheric flow rate across the north and south hemisphere. That is, the rate of exchange between the hemispheres across the equator that follows an exponential decay curve. $\\alpha^{-1}$ represents the mean lifetime for a molecule of ethane to reside in one part of the hemisphere before it is exchanged. "
     ]
    },
    {
     "cell_type": "markdown",
     "metadata": {},
     "source": []
    }
   ],
   "metadata": {}
  }
 ]
}