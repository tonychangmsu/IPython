{
 "metadata": {
  "name": "",
  "signature": "sha256:2bc669d2e3710444f65f5ad9134cdb163bd3663be4beaf5a8ba66b85754f80c8"
 },
 "nbformat": 3,
 "nbformat_minor": 0,
 "worksheets": [
  {
   "cells": [
    {
     "cell_type": "markdown",
     "metadata": {},
     "source": [
      "#BIOE591 Assignment 7: Tracing the Carbon Cycle"
     ]
    },
    {
     "cell_type": "markdown",
     "metadata": {},
     "source": [
      "The ratio of dissolved $C^{14}$ to $C^{12}$ in the deep Pacific Ocean is about 0.77 times that in the atmosphere, and about 0.81 times that in the surface waters. Using $C^{14}$ as a tracer, (a) estimate the residence time of dissolved inorganic carbon in the Pacific Ocean and (b) estimate the rate of exchange of $CO_2$ between the atmosphere and this ocean."
     ]
    },
    {
     "cell_type": "markdown",
     "metadata": {},
     "source": [
      "Variables are defined as follows:\n",
      "\n",
      "- $R$ : rate of $C^{14}$ production in atmosphere \n",
      "- $\\lambda$ : decay rate of $C^{14}$\n",
      "- $\\alpha$ : exchange rate from atmosphere to mixed ocean\n",
      "- $\\gamma$ : exchange rate from mixed ocean to deep ocean\n",
      "- $\\delta$ : exchange rate from deep ocean to mixed ocean \n",
      "- $\\beta$ : exchange rate from mixed ocean to atmosphere\n",
      "- $X_a$ : $C^{14}$ pool in atmosphere\n",
      "- $X_m$ : $C^{14}$ pool in mixed ocean\n",
      "- $X_d$ : $C^{14}$ pool in deep ocean\n",
      "- $Y_a$ : $C^{12}$ pool in atmosphere\n",
      "- $Y_m$ : $C^{12}$ pool in mixed ocean\n",
      "- $Y_d$ : $C^{12}$ pool in deep ocean"
     ]
    },
    {
     "cell_type": "code",
     "collapsed": false,
     "input": [
      "from IPython.display import Latex\n",
      "from IPython.display import Math\n",
      "'''\n",
      "Title: BIOE591 Assignment 7\n",
      "\t\tTracing the Carbon Cycle\n",
      "Author: Tony Chang\n",
      "Date: 10/20/2014\n",
      "Abstract: Energy use and consumption rates on Earth\n",
      "Text: Harte J. 1988 Consider a spherical cow: a course in environmental problem solving. University Science Books. Sausalito, CA.\n",
      "Dependencies: Python 3.X, numpy\n",
      "'''\n",
      "\n",
      "###Equations\n",
      "# R + beta * X_m = lbda * X_a + alpha * X_a\n",
      "# alpha * X_a + delta * X_d = lbda * X_m + beta * X_m  + gamma * X_m \n",
      "# gamma * X_m = delta * X_d + lbda * X_d\n",
      "# alpha * Y_a = beta * Y_m\n",
      "# gamma * Y_m = delta * Y_d\n",
      "\n",
      "R14_a = 0.77 #(X_d/Y_d)/(X_a/Y_a)\n",
      "R14_s = 0.81 #(X_d/Y_d)/(X_m/Y_m)\n",
      "\n",
      "lbda =  1./8225 #decay rate of C14 in years\n",
      "delta = lbda / ((1/R14_s) - 1) # = (lbda) / ((Y_d/Y_m)/(X_m/X_d)) - 1)\n",
      "T12_d = 1/delta\n",
      "\n",
      "\n",
      "print(\"The residence time of $C^12$ in the deep ocean layer is %0.1f years.\"%(T12_d))\n",
      "\n",
      "#alpha = (lbda * (X_m + X_d)) / (X_a - ((Y_a*X_m)/Y_m))\n",
      "\n",
      "R_mix = (1/R14_a)/(1/R14_s)\n",
      "\n",
      "Y_d_Y_m = 46 # the ratio of deep sea carbon 12 to mixed carbon 12\n",
      "X_d_X_m = 37 # the ratio of deep sea carbon 14 to mixed carbon 14\n",
      "\n",
      "T12_m = 1/(lbda*(((1+X_d_X_m)/(R_mix-1))+(X_d_X_m/(1-R14_s))))\n",
      "print(\"The residence time of $C^12$ in the upper mixed ocean layer is %0.1f years.\"%(T12_m))\n",
      "\n",
      "Y_m = 2.3e-3 * 1.25e7 * 12 * 1e12 * 1e-6 #units are mol/liter, km3, g/mol, liter/km3, tonnes/g\n",
      "Y_d = 46 * Y_m\n",
      "\n",
      "gamma = (lbda * Y_d_Y_m) / ((1/R14_s)-1)\n",
      "delta = gamma / Y_d_Y_m\n",
      "alpha_Y_a = Y_m * (1/T12_m - gamma)\n",
      "print(\"The flow of carbon between the atmosphere and the ocean is %.1e tonnes(C)/yr\"%(alpha_Y_a))"
     ],
     "language": "python",
     "metadata": {},
     "outputs": [
      {
       "output_type": "stream",
       "stream": "stdout",
       "text": [
        "The residence time of $C^12$ in the deep ocean layer is 1929.3 years.\n",
        "The residence time of $C^12$ in the upper mixed ocean layer is 8.9 years.\n",
        "The flow of carbon between the atmosphere and the ocean is 3.1e+10 tonnes(C)/yr\n"
       ]
      }
     ],
     "prompt_number": 18
    },
    {
     "cell_type": "markdown",
     "metadata": {},
     "source": [
      "###Exercise 3: Calculate the residence time, $T^{14}_D$, of $C^{14}$ in the deep layer of the Pacific Ocean by evaluating $X_d/\\gamma X_m$."
     ]
    },
    {
     "cell_type": "code",
     "collapsed": false,
     "input": [
      "T14_d = X_d_X_m / gamma\n",
      "\n",
      "print(\"The residence time of $C^14$ in the deep ocean layer is %0.1f years.\"%(T14_d))"
     ],
     "language": "python",
     "metadata": {},
     "outputs": [
      {
       "output_type": "stream",
       "stream": "stdout",
       "text": [
        "The residence time of $C^14$ in the deep ocean layer is 1551.8 years.\n"
       ]
      }
     ],
     "prompt_number": 19
    },
    {
     "cell_type": "markdown",
     "metadata": {},
     "source": [
      "##Exercise 5: Considering ocean uptake (by diffusion) and terrestrial biospheric uptake of atmospheric inorganic carbon (in net primary productivity; see Section XII.1 of the Appendix), what is the residence time of $CO_2$ in Earth's atmosphere?\n",
      "\n"
     ]
    },
    {
     "cell_type": "code",
     "collapsed": false,
     "input": [
      "#Appendix XII. The Biosphere 1.global biomass and productivity\n",
      "NPP= 50e12 * 1e-3 #tonnes(C)/year :npp_continental\n",
      "\n",
      "beta = (1/T12_m)- gamma"
     ],
     "language": "python",
     "metadata": {},
     "outputs": [],
     "prompt_number": 20
    },
    {
     "cell_type": "markdown",
     "metadata": {},
     "source": [
      "we know the diffusion rate of carbon from the atmosphere and the ocean that $\\alpha Y_a$, so we can find the proportion of NPP to the diffusion to the ocean"
     ]
    },
    {
     "cell_type": "code",
     "collapsed": false,
     "input": [
      "NPP_ratio = NPP/alpha_Y_a #1.6326 is the ratio of carbon lost to terrestrial uptake versus ocean diffusion"
     ],
     "language": "python",
     "metadata": {},
     "outputs": [],
     "prompt_number": 21
    },
    {
     "cell_type": "markdown",
     "metadata": {},
     "source": [
      "we can find $Y_a$ from the appendix XIII.5, as the total amount of carbon stock in the atmosphere"
     ]
    },
    {
     "cell_type": "code",
     "collapsed": false,
     "input": [
      "Y_a = 735e12 * 1e-3"
     ],
     "language": "python",
     "metadata": {},
     "outputs": [],
     "prompt_number": 22
    },
    {
     "cell_type": "markdown",
     "metadata": {},
     "source": [
      "now we can build our full model\n",
      "\n",
      "full model \n",
      "$$NPP + \\alpha Y_a = \\beta Y_m $$ where $NPP = {NPP}_{ratio} \\cdot \\alpha Y_a$ \n",
      "$$NPP_{ratio}\\alpha + \\alpha = \\frac{\\beta Y_m}{Y_a} $$\n",
      "so,\n",
      "\n",
      "$$\\frac{1}{(1+ {NPP}_{ratio}) \\alpha} = \\beta \\frac{Y_m}{Y_a}$$, since we know both $Y_m$ and $Y_a$, we can solve and find\n"
     ]
    },
    {
     "cell_type": "markdown",
     "metadata": {},
     "source": [
      "$T^{12}_a = \\frac{1}{(\\beta \\frac{Y_m}{Y_a}) \\cdot (1+NPP_{ratio})}$"
     ]
    },
    {
     "cell_type": "code",
     "collapsed": false,
     "input": [
      "T12_a = 1/((beta*Y_m/Y_a)*(1+NPP_ratio)) #carbon 14 is trace in the atmosphere\n",
      "\n",
      "print(\"The residence time of $C^12$ in the atmosphere layer is %0.1f years.\"%(T12_a))"
     ],
     "language": "python",
     "metadata": {},
     "outputs": [
      {
       "output_type": "stream",
       "stream": "stdout",
       "text": [
        "The residence time of $C^12$ in the atmosphere layer is 9.1 years.\n"
       ]
      }
     ],
     "prompt_number": 23
    },
    {
     "cell_type": "code",
     "collapsed": false,
     "input": [],
     "language": "python",
     "metadata": {},
     "outputs": []
    }
   ],
   "metadata": {}
  }
 ]
}