{
 "metadata": {
  "name": "",
  "signature": "sha256:d17dae054c981999ae90d5fab2d1b1e14267d86c9f39a7d9ff021e668678cb69"
 },
 "nbformat": 3,
 "nbformat_minor": 0,
 "worksheets": [
  {
   "cells": [
    {
     "cell_type": "markdown",
     "metadata": {},
     "source": [
      "#BIOE591 Assignment 6 Exhausting Fossil Fuel Resources (II)\n",
      "###Author: Tony Chang"
     ]
    },
    {
     "cell_type": "code",
     "collapsed": false,
     "input": [
      "'''\n",
      "Title: BIOE591 Assignment 6 Exhausting Fossil Fuel Resources (II)\n",
      "Author: Tony Chang\n",
      "Date: 10/15/2014\n",
      "Abstract: Energy use and consumption rates on Earth\n",
      "Text: Harte J. 1988 Consider a spherical cow: a course in environmental problem solving. University Science Books. Sausalito, CA.\n",
      "Dependencies: Python 3.X, numpy\n",
      "'''"
     ],
     "language": "python",
     "metadata": {},
     "outputs": [
      {
       "metadata": {},
       "output_type": "pyout",
       "prompt_number": 1,
       "text": [
        "'\\nTitle: BIOE591 Assignment 6 Exhausting Fossil Fuel Resources (II)\\nAuthor: Tony Chang\\nDate: 10/15/2014\\nAbstract: Energy use and consumption rates on Earth\\nText: Harte J. 1988 Consider a spherical cow: a course in environmental problem solving. University Science Books. Sausalito, CA.\\nDependencies: Python 3.X, numpy\\n'"
       ]
      }
     ],
     "prompt_number": 1
    },
    {
     "cell_type": "markdown",
     "metadata": {},
     "source": [
      "###If the present worldwide rate of consumption of petroleum increases by 2% every year, how long will it take to use up Earth's petroleum resource?"
     ]
    },
    {
     "cell_type": "code",
     "collapsed": false,
     "input": [
      "# present rate of petroleum consumption F(0) = 1.35e20 J/yr\n",
      "# rate constant r = ln(1.02) yr^-1\n",
      "# remaining petroleum M(0) = 1.0e22 J\n",
      "\n",
      "import numpy as np\n",
      "\n",
      "def fossilTimeRemaining(r,M_o,F_o):\n",
      "#input: rate constant of annual fossil fuel use (r), current consumption rate (F_o), \n",
      "#       and total known reserves (M_o)\n",
      "#output: time in years of remaining available fuel use (T)\n",
      "\treturn(np.log(1+(r*M_o/F_o))/r) \n",
      "\n",
      "F_o = 1.35e20\n",
      "r = np.log(1.02)\n",
      "M_o = 1e22\n",
      "T = fossilTimeRemaining(r,M_o,F_o) #time remaining before all petroleum is used up, \n",
      "                                    #assuming 2% per year increase in use\n",
      "print('%0.2f years remaining for petroleum at the current use rate' %T)"
     ],
     "language": "python",
     "metadata": {},
     "outputs": [
      {
       "output_type": "stream",
       "stream": "stdout",
       "text": [
        "45.60 years remaining for petroleum at the current use rate\n"
       ]
      }
     ],
     "prompt_number": 4
    },
    {
     "cell_type": "markdown",
     "metadata": {},
     "source": [
      "##EXERCISE 1: If coal and natural gas consumption are increasing at an annual rate of 4% per year and 1% per year, respectively, how long will Earth's resources of these fuels last?"
     ]
    },
    {
     "cell_type": "code",
     "collapsed": false,
     "input": [
      "F_o_ng = 6.0e19\n",
      "F_o_c = 9.0e19\n",
      "M_o_ng = 1.0e22\n",
      "M_o_c = 2.50e23\n",
      "ngr = 0.04\n",
      "cr = 0.01\n",
      "r_ng = np.log(1+ngr)\n",
      "r_c = np.log(1+cr)\n",
      "\n",
      "T_ng = fossilTimeRemaining(r_ng, M_o_ng, F_o_ng) \n",
      "#time remaining before all petroleum is used up, assuming 2% per year increase in use\n",
      "T_c = fossilTimeRemaining(r_c, M_o_c, F_o_c) \n",
      "#time remaining before all petroleum is used up, assuming 2% per year increase in use\n",
      "\n",
      "print(\"The estimated time remaining of natural gas at an annual use rate increase of %.1f%% per year is %.1f years\" %((100*ngr),T_ng))\n",
      "print(\"The estimated time remaining of coal at an annual use rate increase of %.1f%% per year is %.1f years\" %((100*cr),T_c))"
     ],
     "language": "python",
     "metadata": {},
     "outputs": [
      {
       "output_type": "stream",
       "stream": "stdout",
       "text": [
        "The estimated time remaining of natural gas at an annual use rate increase of 4.0% per year is 51.5 years\n",
        "The estimated time remaining of coal at an annual use rate increase of 1.0% per year is 337.2 years\n"
       ]
      }
     ],
     "prompt_number": 6
    },
    {
     "cell_type": "markdown",
     "metadata": {},
     "source": [
      "This to me seems like an under estimate of the available natural gas and petroleum, given that new wells seemed to have sprung up in the last decade due to hydraulic fracturing methods. Since the data of this books publishing, 30 years have pasted and there does not seem to be any shortage (or conservation) of fossil fuels. My intuition suggests that our society is not afraid of using this resource until it is completely gone."
     ]
    },
    {
     "cell_type": "code",
     "collapsed": false,
     "input": [],
     "language": "python",
     "metadata": {},
     "outputs": []
    }
   ],
   "metadata": {}
  }
 ]
}