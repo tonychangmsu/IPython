{
 "metadata": {
  "name": "",
  "signature": "sha256:7ba850a5bc7968bd814e419c074fbb84470dec390f8cf41a6773cd18fed1f3f3"
 },
 "nbformat": 3,
 "nbformat_minor": 0,
 "worksheets": [
  {
   "cells": [
    {
     "cell_type": "markdown",
     "metadata": {},
     "source": [
      "#BIOE 591: Ecological Modeling Homework Assignment 2\n",
      "Author: Tony Chang\n",
      "\n",
      "Date: 09/17/14 \n",
      "\n",
      "Abstract: Solutions to BIOE1 assignment 2 written in Python 3.4 \n",
      "\n",
      "Dependencies: Python 3.4 "
     ]
    },
    {
     "cell_type": "markdown",
     "metadata": {},
     "source": [
      "##Pre-exercise"
     ]
    },
    {
     "cell_type": "code",
     "collapsed": false,
     "input": [
      "#declare the constants\n",
      "stock_terrestrial_biomass = 5.6e17\n",
      "terrestrial_npp = 5e16\n",
      "stock_marine_biomass = 2e15\n",
      "marine_npp = 2.5e16"
     ],
     "language": "python",
     "metadata": {},
     "outputs": []
    },
    {
     "cell_type": "code",
     "collapsed": false,
     "input": [
      "rt_terrestrial = stock_terrestrial_biomass/terrestrial_npp\n",
      "rt_marine = stock_marine_biomass/marine_npp\n",
      "print('T_terrestrial = %.1f yr \\t T_marine = %.2f yr' %(rt_terrestrial, rt_marine))"
     ],
     "language": "python",
     "metadata": {},
     "outputs": []
    },
    {
     "cell_type": "markdown",
     "metadata": {},
     "source": [
      "##Exercise 1"
     ]
    },
    {
     "cell_type": "markdown",
     "metadata": {},
     "source": [
      "*Exercise 1: Suppose that the average residence time (ignoring respiratory pathways) of carbon in the phytoplankton in a lake is two weeks. Zooplankton in the lake, grazing upon the phytoplankton, consume 40% of the net primary productivity and have an incorporation efficiency of 25% (i.e., 25% of the phytoplankton biomass they eat is incorporated into zooplankton biomass). In other words, the net productivity of the zooplankton is 0.25 x 0.40 or 10% of the npp of the algae. If the average residence time (ignoring respiratory pathways) of carbon in zooplankton biomass is six months, estimate the ratio of the average biomass of the zooplankton population to that of the phytoplankton population in the lake. Figure II-3 illustrates the flows in and out of the two stocks of plankton.*"
     ]
    },
    {
     "cell_type": "code",
     "collapsed": false,
     "input": [
      "from IPython.core.display import Image\n",
      "Image(filename=\"/media/shared/Courses/BIOE591/hw2/ScanFigII3.jpg\")"
     ],
     "language": "python",
     "metadata": {},
     "outputs": []
    },
    {
     "cell_type": "markdown",
     "metadata": {},
     "source": [
      "Since we don't know the gross primary productivity in the lake, we can just use some arbitrary value (G=1). This will not matter since we will be considering a ratio of zooplankton mass to phytoplankton mass."
     ]
    },
    {
     "cell_type": "markdown",
     "metadata": {},
     "source": [
      "Given the parameters described in the text, we can calculate the stock of zooplankton as a function of the NPP from phytoplankton below:\n",
      "\n",
      "$$M_{zoo} = NPP_{phy} * I * C * rt_{zoo} \\quad \\quad (1)$$\n",
      "\n",
      "Where $I$ is the incorporation efficiency, $C$ is the percent of phytoplankton consumed, and $rt_{zoo}$ is the residence time for zooplankton. Phytoplankton stock can simply be calculated with the known residence time $rt_{phy}$.\n",
      "\n",
      "$$M_{phy} = NPP_{phy} * rt_{phy} \\quad \\quad (2)$$\n",
      "\n",
      "So in calculating the ratio of zooplankton mass and phytoplankton mass, we need only consider the residence times for both zooplankton and phytoplankton, and the efficiency at which zooplankton incorporates phytoplankton:\n",
      "\n",
      "$$r = \\frac{M_{zoo}}{M_{phy}} = \\frac{I * C * rt_{zoo}}{rt_{phy}}\\quad \\quad (3)$$"
     ]
    },
    {
     "cell_type": "code",
     "collapsed": false,
     "input": [
      "yr_wk = (1/52.1775)\n",
      "rt_phy = 2 * yr_wk #2 week residence time for phytoplankton\n",
      "rt_zoo = 0.5 #6 month residence time for zooplankton\n",
      "G = 1  #gross primary productivity g(C)/yr of phytoplankton (use arbitrary 1 value)\n",
      "R = 0 #resiration rate \n",
      "N = G - R #net primary productivity\n",
      "M_P = N * rt_phy # stock of phytoplankton\n",
      "I = 0.25 #incorporation efficiency of phytoplankton by zooplankton\n",
      "C = 0.4 #percent of phytoplankton consumed by zooplankton\n",
      "H = N * I * C #input net primary productivity of zooplankton\n",
      "M_Z = H * rt_zoo\n",
      "\n",
      "ratio = M_Z/M_P"
     ],
     "language": "python",
     "metadata": {},
     "outputs": []
    },
    {
     "cell_type": "code",
     "collapsed": false,
     "input": [
      "#print the results\n",
      "print('The average mass ratio of zooplankton to phytoplankton is: %.1f' %(ratio))"
     ],
     "language": "python",
     "metadata": {},
     "outputs": []
    },
    {
     "cell_type": "markdown",
     "metadata": {},
     "source": [
      "Due to the longer residence time of zooplankton over the course of a year, there will be ~1.3 mass of zooplankton to every one mass of phytoplankton in the lake stock every year under the given zooplankton consumption/incorporation efficiency and residence times."
     ]
    }
   ],
   "metadata": {}
  }
 ]
}