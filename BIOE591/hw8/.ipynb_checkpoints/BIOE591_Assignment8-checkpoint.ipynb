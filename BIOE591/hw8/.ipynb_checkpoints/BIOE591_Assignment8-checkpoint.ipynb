{
 "metadata": {
  "name": "",
  "signature": "sha256:3c8c27b8626f1fcb08a50b10120c2a0b3bbabfd592ccad25270bdb29f7a465d4"
 },
 "nbformat": 3,
 "nbformat_minor": 0,
 "worksheets": [
  {
   "cells": [
    {
     "cell_type": "markdown",
     "metadata": {},
     "source": [
      "\n",
      "#Title: BIOE591 Assignment 8\n",
      "##Earth's Surface Temperature\n",
      "\n",
      "    Author: Tony Chang\n",
      "    Date: 11/05/2014\n",
      "    Abstract: Estimating the averaged surface temperature of the planet\n",
      "    Text: Harte J. 1988 Consider a spherical cow: a course in environmental problem solving. University Science Books. Sausalito, CA.\n",
      "    Dependencies: Python 3.X, numpy\n",
      "\n",
      "\n",
      "\n",
      "#What is the globally averaged surface temperature of Earth?\n"
     ]
    },
    {
     "cell_type": "code",
     "collapsed": false,
     "input": [
      "import numpy as np\n",
      "import matplotlib.pyplot as plt\n",
      "\n",
      "def T_n(n, T_o):\n",
      "\treturn(((n+1)**(1/4))*T_o)\n",
      "\t\n",
      "#determine a 2 level atmosphere energy balance\n",
      "omega = 1372 #radiation from sun (W/m2)\n",
      "sigma = 5.67e-8 #Stefan-Boltzman constant (J/m2 sec K4)\n",
      "a = 0.3 #Earth's albedo (%) ###(a=0.39  Hartmann 2005; Freedman and Kaufmann 2002)\n",
      "n = 2 #number of layers represented in atmosphere\n",
      " \n",
      "T_o = ((omega*(1-a))/(4*sigma))**(1/4)\n",
      "T_s = T_n(n, T_o)\n",
      "print(\"The estimated mean surface temperature of Earth based on the initial model is: %0.1f K\"%(T_s))\n",
      "\n",
      "#adding more parameters to account for the overestimate.\n",
      "#Considerations are: 1. energy absorption by atmosphere, 2. latent heat flux, 3. Narrow band allowed to penetrate atmosphere\n",
      "\n",
      "F_w = 20 #portion of IR emitted from the surface that is radiated directly to space\n",
      "F_s = 86 #portion of the solar flux absorbed in the atmosphere\n",
      "F_s = 0.55*(omega/4) - a*(omega/4)\n",
      "F_e = 80 #flux of latent heat leaving Earth's surface\n",
      "F_c = 17 #flux of convective heat leaving Earth's surface\n",
      "\n",
      "W = (a*(omega/4)) + (sigma*T_o**4) + F_w - (omega/4)\n",
      "W = 0 #initially ignoring the waste heat\n",
      "T_o_hat = (((omega*(1-a))/(4*sigma)) - (F_w/sigma))**(1/4)\n",
      "T_1_hat = (((2*sigma*(T_o_hat**4)) - (0.5*F_e) - (0.7*F_s))/sigma)**(1/4)\n",
      "T_s_hat = (((2*sigma*(T_1_hat**4)) - (sigma*(T_o_hat**4)) + F_w - F_c - (0.5*F_e) - (0.3*F_s))/sigma)**(1/4)\n",
      "\t\n",
      "print(\"The estimated mean surface temperature of Earth based on inclusion of absorption by atmosphere on the initial model is: %0.1f K\"%(T_s_hat))\n"
     ],
     "language": "python",
     "metadata": {},
     "outputs": [
      {
       "output_type": "stream",
       "stream": "stdout",
       "text": [
        "The estimated mean surface temperature of Earth based on the initial model is: 335.7 K\n",
        "The estimated mean surface temperature of Earth based on inclusion of absorption by atmosphere on the initial model is: 289.4 K\n"
       ]
      }
     ],
     "prompt_number": 3
    },
    {
     "cell_type": "markdown",
     "metadata": {},
     "source": [
      "\n",
      "##Exercise 4: \n",
      "The \"nuclear winter\" phenomenon arises becase of the large quantities of soot that would get lofted into the upper troposphere in the aftermath of nuclear war. The soot, resulting from widespread fires caused by detonating nuclear bombs, would block the solar flux and cause a darkening and freezing at Earth's surface. Absorption of sunlight by the soot would warm the upper atmosphere. To explore this phenomenon (or that of a major volcanic eruption or asteroid impact causing alteration of sunlight at Earth's surface) in our model, make the following assumptions:\n",
      "\n",
      "   1. Of the incident nonreflected solar flux, 95% is absorbed in the upper zone of the atmosphere (because that is where the soot is).\n",
      "   2. Of the remaining 5%, half is absorbed in the lower zone of the atmosphere and half at Earth's surface.\n",
      "   3. Earth's albedo is unchanged, but $F_w$ = 0.\n",
      "   4. $F_e$ will be reduced by 50% (because the driving force behind vertical convection - a surface that is warmer than the air aloft - will be eliminated). \n",
      "   5. The soot is a poor absorber of IR, so n is still equal to 2. \n",
      "\n",
      "What are $T_s$, $T_1$, and $T_0$ in the steady state under these conditions? In reality, a steady-state nuclear winter would not set in because soot would gradually settle out of the atmosphere, after which the surface of Earth would warm up. This exercise also ignores the fact that reflective dust would be lofted into the stratosphere as a result of the detonations. The actual percentage of sunlight absorbed by the soot and reflected by the dust would depend on the number, size, and target sites of the detonated bombs. Should nuclear war erupt today, given the present nuclear arsenals of the United States and the Soviet Union, the value for sunlight absorption used here is not at all implausible. \n"
     ]
    },
    {
     "cell_type": "code",
     "collapsed": false,
     "input": [
      "#redefine the constants for the case of nuclear winter\n",
      "\n",
      "F_w = 0 #portion of IR emitted from the surface that is radiated directly to space \n",
      "#this will be zero if soot covers atmosphere, trapping heat\n",
      "F_s = 0.975*(omega/4) - a*(omega/4)\n",
      "F_e = 80/2 #flux of latent heat leaving Earth's surface\n",
      "\n",
      "F_c = 0 #flux of convective heat leaving Earth's surface, no more vertical convection \n",
      "\n",
      "\n",
      "T_o = (((omega*(1-a))/(4*sigma)) - (F_w/sigma))**(1/4)\n",
      "T_1 = (((2*sigma*(T_o**4)) - (0.5*F_e) - (F_s) + (0.025*F_s))/sigma)**(1/4) \n",
      "T_s = (((2*sigma*(T_1**4)) - (sigma*(T_o**4)) + F_w - F_c - (0.5*F_e) - (0.05*F_s))/sigma)**(1/4)\n",
      "\n",
      "print(\"The estimated mean surface temperature of Earth based on the nuclear winter model is:\")\n",
      "print(\"Upper layer atmosphere temperature is: %0.1f K\"%(T_o))\n",
      "print(\"Lower layer atmosphere temperature is: %0.1f K\"%(T_1))\n",
      "print(\"Surface temperature is: %0.1f K\"%(T_s))"
     ],
     "language": "python",
     "metadata": {},
     "outputs": [
      {
       "output_type": "stream",
       "stream": "stdout",
       "text": [
        "The estimated mean surface temperature of Earth based on the nuclear winter model is:\n",
        "Upper layer atmosphere temperature is: 255.1 K\n",
        "Lower layer atmosphere temperature is: 253.6 K\n",
        "Surface temperature is: 242.9 K\n"
       ]
      }
     ],
     "prompt_number": 4
    }
   ],
   "metadata": {}
  }
 ]
}