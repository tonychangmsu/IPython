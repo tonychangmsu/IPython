{
 "metadata": {
  "name": "",
  "signature": "sha256:893a7f2a0052f81141a1414ebcaadbfab759ec8ebf58068fe6df3f2c33d4c274"
 },
 "nbformat": 3,
 "nbformat_minor": 0,
 "worksheets": [
  {
   "cells": [
    {
     "cell_type": "markdown",
     "metadata": {},
     "source": [
      "#BIOE 591: Ecological Modeling Homework Assignment 1\n",
      "Author: Tony Chang\n",
      "\n",
      "Date: 09/08/14 \n",
      "\n",
      "Abstract: Solutions to BIOE1 assignment 1 written in Python 3.4 \n",
      "\n",
      "Dependencies: Python 3.4 "
     ]
    },
    {
     "cell_type": "markdown",
     "metadata": {},
     "source": [
      "###Pre-exercise question: *The Greens We Eat*\n",
      "    \n",
      "    What fraction of the total annual plant growth on Earth was eaten by humans in 1983?"
     ]
    },
    {
     "cell_type": "code",
     "collapsed": false,
     "input": [
      "#constants\n",
      "daily_cal_human = 2.5e6 # average daily human consumption in calories per day\n",
      "population = 4.7e9 # total number of humans in 1983\n",
      "J_per_cal = 4.18 # conversion of J/cal\n",
      "npp_g = 7.5e16 # g(C)/yr amount of C assimilated by plants per year\n",
      "e_per_biomass = 1.6e4 # J/g(biomass dry) amount of energy per gram dry biomass\n",
      "days_year = 365"
     ],
     "language": "python",
     "metadata": {},
     "outputs": [],
     "prompt_number": 1
    },
    {
     "cell_type": "code",
     "collapsed": false,
     "input": [
      "#we estimate biomass grown by plants with total glucose produced given known carbon assimilation\n",
      "#write a function to calculate the carbon within glucose\n",
      "def biomassGlucose(C,H,O):\n",
      "\tmC = 12.011; mH = 1.0079; mO = 15.999 #mass of C, H, and O per mol\n",
      "\treturn((C*mC)/(C*mC+H*mH+O*mO))\t"
     ],
     "language": "python",
     "metadata": {},
     "outputs": [],
     "prompt_number": 2
    },
    {
     "cell_type": "code",
     "collapsed": false,
     "input": [
      "glucose = biomassGlucose(6, 12, 6) \n",
      "npp_J = npp_g*e_per_biomass/glucose #npp in units J/year\n",
      "daily_J_human = daily_cal_human * J_per_cal\n",
      "annual_J_human = daily_J_human * days_year\n",
      "pop_J = annual_J_human * population\n",
      "f = pop_J/npp_J\n",
      "print(\"%.1f percent plant material (glucose) are consumed by humans annually\"%(f*100))"
     ],
     "language": "python",
     "metadata": {},
     "outputs": [
      {
       "output_type": "stream",
       "stream": "stdout",
       "text": [
        "0.6 percent plant material (glucose) are consumed by humans annually\n"
       ]
      }
     ],
     "prompt_number": 3
    },
    {
     "cell_type": "markdown",
     "metadata": {},
     "source": [
      "My intial guess of human consumption of total annual plant growth was 5%. It turns out, that based on\n",
      "the estimates with assumptions of a 2,500 kcal diet per human and known net primary productivity that only 0.6% of plant material are consumed.\n",
      "\n",
      "--------------"
     ]
    },
    {
     "cell_type": "markdown",
     "metadata": {},
     "source": [
      "###Exercise 1\n",
      "_A formula representing the approximate chemical composition of typical dry freshly photosynthesized biomass is $H_{2960} O_{1480} C_{1480} N_{160} P_{18} S_{10}$, where each subscript denotes the relative number of atoms of that elemental type. If this is more precise representation is used instead of $C_6 H_{12} O_6$, recalculate the fraction, f._"
     ]
    },
    {
     "cell_type": "markdown",
     "metadata": {},
     "source": [
      "Begin by writing a function for the carbon content in dry biomass and compare that estimate for carbon content in glucose."
     ]
    },
    {
     "cell_type": "code",
     "collapsed": false,
     "input": [
      "#function to calculate the carbon content in dry biomass (g(C)/g(biomass))\n",
      "def biomassDry(H,O,C,N,P,S):\t\n",
      "\tmC = 12.011; mH = 1.0079; mO = 15.999 #mass of C, H, and O per mol\n",
      "\tmS = 32.065; mP = 30.974; mN = 14.007 #mass of S, P, and N per mol\n",
      "\treturn((C*mC)/(C*mC+H*mH+O*mO+N*mN+P*mP+S*mS))\t"
     ],
     "language": "python",
     "metadata": {},
     "outputs": [],
     "prompt_number": 4
    },
    {
     "cell_type": "code",
     "collapsed": false,
     "input": [
      "drymass = biomassDry(2960,1480,1480,160,18,10) \n",
      "print(\"Carbon content in glucose: %.2f\" %glucose)\n",
      "print(\"Carbon content in dry biomass: %.2f\" %drymass)\n",
      "npp_J_ex1 = npp_g*e_per_biomass/drymass #npp in units J/year\n",
      "ex1_f = pop_J/npp_J_ex1\n",
      "print(\"%.1f percent plant material consumed by humans annually\"%(ex1_f*100))"
     ],
     "language": "python",
     "metadata": {},
     "outputs": [
      {
       "output_type": "stream",
       "stream": "stdout",
       "text": [
        "Carbon content in glucose: 0.40\n",
        "Carbon content in dry biomass: 0.37\n",
        "0.6 percent plant material consumed by humans annually\n"
       ]
      }
     ],
     "prompt_number": 5
    },
    {
     "cell_type": "markdown",
     "metadata": {},
     "source": [
      "Using the more precise estimate of photosynthesized biomass do not make a major change in end estimate of annual human consumption of plant material. The new _f_ estimate is still 0.6% for 1983.\n",
      "\n",
      "-------------"
     ]
    },
    {
     "cell_type": "markdown",
     "metadata": {},
     "source": [
      "###Exercise 2\n",
      "\n",
      "_The production of animal-derived foods, such as beef, eggs, fish, and milk, requires the production of plants as fodder. To produce 1 J of energy in the form of beef requires about 8 J of energy in the form of grains, while for poultry about 3 J of energy from grains are required. These represent extremes. The production of 1 J of other animal-derived foods requires very roughly 5 J of plant matter. Estimate how much meat you eat per year and use this to work out the following: If all of Earth's people ate a diet like yours, approximately what would the fraction f be? (Hint: if you start with an estimate of the mass of meat you eat, you will have to assume something about its water content. You may assume fresh meat has about the same water content as fresh vegetation roughly 70%)_"
     ]
    },
    {
     "cell_type": "markdown",
     "metadata": {},
     "source": [
      "For this exercise, I make some general assumptions regarding my diet. I think on a daily basis, I eat about 1 lbs. of meat type product a day. The proportions of those meat products are about $\\frac{1}{10}$ beef product, $\\frac{1}{10}$ poultry product, and $\\frac{4}{5}$ other meat product. The rest of my diet, I assume I eat about 4 lbs of plant material a day. Using the values, I found the amount of energy (kcal) derived from beef, poultry, and other (mostly eggs and cheese) per every 100g from the USDA <https://ndb.nal.usda.gov/ndb/>.  "
     ]
    },
    {
     "cell_type": "code",
     "collapsed": false,
     "input": [
      "grams_per_lbs = 453.592\n",
      "water_content = 0.7 #approximate water content in meats\n",
      "lbs_meat = 1 \n",
      "my_meat_cons = lbs_meat * grams_per_lbs  #assume I eat 1 lbs (453.592g) of meat a day\n",
      "pr_beef = 0.1; pr_poul = 0.1; pr_other = 0.8 # proportions of beef, poultry, and other\n",
      "my_bf = my_meat_cons * pr_beef\n",
      "my_pf = my_meat_cons * pr_poul\n",
      "my_of = my_meat_cons * pr_other\n",
      "\n",
      "#USDA derived energy values for meat products in kcal/100g\n",
      "beef_ec = 270/100 #Used USDA #23573 Beef, ground, 80% lean meat / 20% fat, patty, cooked, broiled\n",
      "poultry_ec = 172/100 #Used USDA #05324, Chicken patty, frozen, cooked\n",
      "other_ec = (196/100 + 406/100)/2 #Used USDA #01128, Egg, whole, cooked, fried and #01009, Cheese, cheddar (averaged)"
     ],
     "language": "python",
     "metadata": {},
     "outputs": [],
     "prompt_number": 6
    },
    {
     "cell_type": "code",
     "collapsed": false,
     "input": [
      "#perform a small check first to make sure energy estimates seems reasonable\n",
      "cal_per_kcal = 1000\n",
      "beef_cal = my_bf * beef_ec * cal_per_kcal\n",
      "poul_cal = my_pf * poultry_ec * cal_per_kcal\n",
      "other_cal = my_of * other_ec * cal_per_kcal\n",
      "total_cal_meat = (beef_cal + poul_cal + other_cal) \n",
      "print(total_cal_meat)"
     ],
     "language": "python",
     "metadata": {},
     "outputs": [
      {
       "output_type": "stream",
       "stream": "stdout",
       "text": [
        "1292737.2000000002\n"
       ]
      }
     ],
     "prompt_number": 7
    },
    {
     "cell_type": "markdown",
     "metadata": {},
     "source": [
      "So, from these numbers I get about 1292.7 Calories from meat, which seems pretty reasonable."
     ]
    },
    {
     "cell_type": "code",
     "collapsed": false,
     "input": [
      "total_J_meat = total_cal_meat * J_per_cal #convert to J\n",
      "lbs_plant = 4\n",
      "my_plant_cons = lbs_plant * grams_per_lbs\n",
      "my_dry_plant = my_plant_cons * (1 - water_content)\n",
      "my_J_plant = my_dry_plant * e_per_biomass \n",
      "print(my_J_plant/J_per_cal)\n",
      "print(my_J_plant/J_per_cal+total_cal_meat)"
     ],
     "language": "python",
     "metadata": {},
     "outputs": [
      {
       "output_type": "stream",
       "stream": "stdout",
       "text": [
        "2083484.7846889955\n",
        "3376221.9846889954\n"
       ]
      }
     ],
     "prompt_number": 8
    },
    {
     "cell_type": "markdown",
     "metadata": {},
     "source": [
      "I get about 2083.5 Calories from plant material and a total diet of 3376.2 Calories daily, so this sounds like a reasonable diet for the rest of the world, especially following exercise 1? This diet is probably not representative, most Americans eat 3500+ Calories per day and many people in 3rd world countries eat much less. "
     ]
    },
    {
     "cell_type": "code",
     "collapsed": false,
     "input": [
      "#convert the meat energy to equivalent in plant material\n",
      "bf_to_plant = 8 # beef to grain energy cost\n",
      "poul_to_plant = 3 # poultry energy cost\n",
      "oth_to_plant = 5 # other meat energy cost\n",
      "beef_plant_equi_J = beef_cal * J_per_cal * bf_to_plant\n",
      "poul_plant_equi_J = poul_cal * J_per_cal * poul_to_plant\n",
      "oth_plant_equi_J = other_cal * J_per_cal * oth_to_plant\n",
      "total_meat_plant_J = beef_plant_equi_J + poul_plant_equi_J + oth_plant_equi_J\n",
      "my_annual_J = (total_meat_plant_J + my_J_plant) * days_year\n",
      "human_annual_J = my_annual_J * population\n",
      "f_ex2 = human_annual_J/npp_J\n",
      "print(\"%.1f percent plant material consumed by humans annually (considering meat products)\"%(f_ex2*100))"
     ],
     "language": "python",
     "metadata": {},
     "outputs": [
      {
       "output_type": "stream",
       "stream": "stdout",
       "text": [
        "2.1 percent plant material consumed by humans annually (considering meat products)\n"
       ]
      }
     ],
     "prompt_number": 9
    },
    {
     "cell_type": "markdown",
     "metadata": {},
     "source": [
      "The _f_ of plant material needed by humans increased to 1.0%. So if every person on the planet had a diet like mine (in 1983), the plant growth requirements almost double.\n",
      "\n",
      "-----------"
     ]
    },
    {
     "cell_type": "markdown",
     "metadata": {},
     "source": [
      "###Exercise 3\n",
      "\n",
      "_About what fraction of Earth's current npp would we need to consume if we derived all the energy we now (1980) get from fossil fuel from biomass instead? What does your answer tell you about the wisdom of replacing fossil fuels with biomass? What ecological problems would you anticipate this might cause?_"
     ]
    },
    {
     "cell_type": "markdown",
     "metadata": {},
     "source": [
      "For this exercise I looked up some type of published source of world wide fossil fuel use. I found a report from World Watch Vital Signs (2003) <https://www.worldwatch.org/brain/media/pdf/pubs/vs/2003_fossil_fuel.pdf>, which is founded by Lester Brown a US environmental analyst. Although this is an independent research institute, the estimates seem to be calculated from reasonable sources (BP, DOE, IEA, IGU, and LBL). Using this as a source, from 1980, the world used 1814, 2972, and 1304 million tonnes of oil equivalent for coal, oil, and natural gas respectively. We can convert this to energy (J) assuming one toe (tonne of oil equivalent) to release 41.868 GJ. "
     ]
    },
    {
     "cell_type": "code",
     "collapsed": false,
     "input": [
      "coal = 1814e6 #tonnes of oil equivalent\n",
      "oil = 2972e6 \n",
      "gas = 1304e6\n",
      "# fossil fuel taken from World Watch estimates\n",
      "f_J = 41.868e9 #joules in a tonne oil equivalent\n",
      "total_fos = (coal+oil+gas)*f_J\n",
      "print(\"%.1e joules of energy consumed in 1980.\" %(total_fos))"
     ],
     "language": "python",
     "metadata": {},
     "outputs": [
      {
       "output_type": "stream",
       "stream": "stdout",
       "text": [
        "2.5e+20 joules of energy consumed in 1980.\n"
       ]
      }
     ],
     "prompt_number": 53
    },
    {
     "cell_type": "markdown",
     "metadata": {},
     "source": [
      "This seems reasonable since the world used 143,851 terawatt hours of energy in 2013 <http://en.wikipedia.org/wiki/World_energy_consumption>, which comes out to 5.2e20 joules. Seems like we doubled energy use since 1980."
     ]
    },
    {
     "cell_type": "code",
     "collapsed": false,
     "input": [
      "f_fos = total_fos/npp_J\n",
      "print(\"%.1f percent annual plant growth material equivalent used by fossil fuels\"%(f_fos*100))"
     ],
     "language": "python",
     "metadata": {},
     "outputs": [
      {
       "output_type": "stream",
       "stream": "stdout",
       "text": [
        "8.5 percent annual plant growth material equivalent used by fossil fuels\n"
       ]
      }
     ],
     "prompt_number": 56
    },
    {
     "cell_type": "markdown",
     "metadata": {},
     "source": [
      "If we were to replace all our fossil fuels with annual plant growth, we would have to use 8.5% of the global NPP. So each year we would be using a substantial portion of the global standing biomass just to power our needs. After 10-15 years we would run out of all our plant material, meaning we would lose a major carbon sink, intensifying the carbon concentration in the atmosphere. Ecologically, this much loss in plant material would mean loss of vital habitat for wildlife/biodiversity, water filtration loss from wetlands, erosion control from riparian plants, and a host of other ecosystem services. \n",
      "\n",
      "----------"
     ]
    },
    {
     "cell_type": "markdown",
     "metadata": {},
     "source": [
      "###Exercise 4\n",
      "\n",
      "_If the human population continues to grow at about 2%/yr, in what year will humans be eating Earth's current rate of npp?_"
     ]
    },
    {
     "cell_type": "markdown",
     "metadata": {},
     "source": [
      "For this exercise, we have to write a compound growth and linear growth function to determine the total Earth population for a given year projection."
     ]
    },
    {
     "cell_type": "code",
     "collapsed": false,
     "input": [
      "def compoundGrowth(p, yrs, growth_rate): \n",
      "    #given number of years, calculates total population at a 2% growth rate\n",
      "    cP = p\n",
      "    for i in range(yrs):\n",
      "        pop_year = cP * growth_rate\n",
      "        cP += pop_year\n",
      "    return(cP)\n",
      "\n",
      "def linearGrowth(p, yrs, growth_rate):\n",
      "    return(p+(p*growth_rate*yrs))\n",
      "\n",
      "#figure out the population for 2014 to see which growth rate model is reasonable\n",
      "growth_rate = 0.02\n",
      "currentyear = 2014\n",
      "dy = currentyear-1983\n",
      "pop_cg = compoundGrowth(population, dy, growth_rate)\n",
      "pop_lg = linearGrowth(population, dy, growth_rate)\n",
      "print(\"For compound growth the population estimate for year %i is %i individuals\" %(currentyear, pop_cg))\n",
      "print(\"For linear growth the population estimate for year %i is %i individuals\" %(currentyear, pop_lg))"
     ],
     "language": "python",
     "metadata": {},
     "outputs": [
      {
       "output_type": "stream",
       "stream": "stdout",
       "text": [
        "For compound growth the population estimate for year 2014 is 8683667434 individuals\n",
        "For linear growth the population estimate for year 2014 is 7614000000 individuals\n"
       ]
      }
     ],
     "prompt_number": 113
    },
    {
     "cell_type": "markdown",
     "metadata": {},
     "source": [
      "Seems like the compound rate is a bit of an over estimate since we currently have 7.19 billion individuals. We'll try both to see what's the difference."
     ]
    },
    {
     "cell_type": "code",
     "collapsed": false,
     "input": [
      "#Compound case\n",
      "annual_pop_J = pop_J\n",
      "yr = 0\n",
      "while (annual_pop_J<npp_J):\n",
      "    annual_pop = compoundGrowth(population, yr, growth_rate)\n",
      "    annual_pop_J = annual_pop * annual_J_human \n",
      "    yr+=1\n",
      "print(\"Total human population by year %i: %e\" %(yr+1983,annual_pop))\n",
      "print(\"Annual human consumption by year %i: %.e J: \" %(yr+1983,annual_pop_J))\n",
      "print(\"Annual NPP: %e\"%(npp_J))\n",
      "print('With a compound growth rate of 2%% population per year, \\nhumans would consume all plant material in %i years.'%(yr))\n"
     ],
     "language": "python",
     "metadata": {},
     "outputs": [
      {
       "output_type": "stream",
       "stream": "stdout",
       "text": [
        "Total human population by year 2243: 7.934916e+11\n",
        "Annual human consumption by year 2243: 3e+21 J: \n",
        "Annual NPP: 2.999830e+21\n",
        "With a compound growth rate of 2% population per year, \n",
        "humans would consume all plant material in 260 years.\n"
       ]
      }
     ],
     "prompt_number": 105
    },
    {
     "cell_type": "code",
     "collapsed": false,
     "input": [
      "annual_pop_J = pop_J\n",
      "yr = 0\n",
      "while (annual_pop_J<npp_J):\n",
      "    annual_pop = linearGrowth(population, yr, growth_rate)\n",
      "    annual_pop_J = annual_pop * annual_J_human \n",
      "    yr+=1\n",
      "print(\"Total human population by year %i: %e\" %(yr+1983,annual_pop))\n",
      "print(\"Annual human consumption by year %i: %.e J: \" %(yr+1983,annual_pop_J))\n",
      "print(\"Annual NPP: %e\"%(npp_J))\n",
      "print('With a linear growth rate of 2%% population per year, \\nhumans would consume all plant material in %i years.'%(yr))\n"
     ],
     "language": "python",
     "metadata": {},
     "outputs": [
      {
       "output_type": "stream",
       "stream": "stdout",
       "text": [
        "Total human population by year 10301: 7.864980e+11\n",
        "Annual human consumption by year 10301: 3e+21 J: \n",
        "Annual NPP: 2.999830e+21\n",
        "With a linear growth rate of 2% population per year, \n",
        "humans would consume all plant material in 8318 years.\n"
       ]
      }
     ],
     "prompt_number": 107
    },
    {
     "cell_type": "markdown",
     "metadata": {},
     "source": [
      "So, by year 2243 at the current human plant consumption rate and compound population growth rate, we would consume all the global NPP with a total population of ~793 billion individuals. With the linear growth model, it would take us 8318 years (year 10,301) which is much more optimistic. I might go with the more optimistic estimate, as population growth has been reported to slow down globally and seems unlikely that humans will consume all of the NPP in the near future. "
     ]
    },
    {
     "cell_type": "markdown",
     "metadata": {},
     "source": [
      "###Appendix\n",
      "\n",
      "quote Ben Poulter: \n",
      ">   _I was surprised it was 0.6 % too and I thought it was 5% - if you have time, could you check Running's NPP limits for his numbers, and maybe go back to the VItousek article to figure out the difference._\n",
      "\n",
      "From the Zhao and Running 2010 reanalysis of NPP, we get a global estimate of NPP ranging from 51.672 to 54.692 PgC/yr between the years of 2000 to 2009. <http://www.sciencemag.org/content/suppl/2010/08/17/329.5994.940.DC1/Zhao.SOM.revision.1.pdf>. Taking the mean of this range and changing the current population to approximately 7.19e9 <http://www.census.gov/popclock/>, we can recalculate the total plant assimilated carbon.   "
     ]
    },
    {
     "cell_type": "code",
     "collapsed": false,
     "input": [
      "population_2010 = 7.19e9 # total number of humans in 2010\n",
      "npp_g_2010 = (51.672+54.692)/2 * 1e15 # g(C)/yr amount of C assimilated by plants per year"
     ],
     "language": "python",
     "metadata": {},
     "outputs": [],
     "prompt_number": 8
    },
    {
     "cell_type": "code",
     "collapsed": false,
     "input": [
      "npp_J_2010 = npp_g_2010*e_per_biomass/drymass #npp in units J/year\\\n",
      "pop_J_2010 = annual_J_human * population_2010\n",
      "f_2010 = pop_J_2010/npp_J_2010\n",
      "print(\"%.1f percent plant material (glucose) are consumed by humans annually,\"\\\n",
      "      \"\\n under estimates NPP based on Zhao and Running (2010) and a 7.19e9 population.\"%(f_2010*100))"
     ],
     "language": "python",
     "metadata": {},
     "outputs": [
      {
       "output_type": "stream",
       "stream": "stdout",
       "text": [
        "1.2 percent plant material (glucose) are consumed by humans annually,\n",
        " under estimates NPP based on Zhao and Running (2010) and a 7.19e9 population.\n"
       ]
      }
     ],
     "prompt_number": 25
    },
    {
     "cell_type": "markdown",
     "metadata": {},
     "source": [
      "This essentially doubles the global consumption, but is still short of Poulter's 5% notion. We can try with meat estimates as well to see if that makes a substantial difference."
     ]
    },
    {
     "cell_type": "code",
     "collapsed": false,
     "input": [
      "human_annual_J = my_annual_J * population_2010\n",
      "f_2010_meat = human_annual_J/npp_J_2010\n",
      "print(\"%.1f percent plant material consumed by humans annually (considering meat products)\"%(f_2010_meat*100))"
     ],
     "language": "python",
     "metadata": {},
     "outputs": [
      {
       "output_type": "stream",
       "stream": "stdout",
       "text": [
        "2.0 percent plant material consumed by humans annually (considering meat products)\n"
       ]
      }
     ],
     "prompt_number": 32
    },
    {
     "cell_type": "markdown",
     "metadata": {},
     "source": [
      "Again we are short of the 5% mark, but 2% consumption is quite a bit considering that would be equivalent to consuming half of the African rainforest. In the Vitousek et al. (1986) <http://www.jstor.org/stable/1310258> paper of human appropriation of products of photosynthesis, they use a much larger estimate of global NPP (roughly 224.5 Pg(C)), but also assume that there are 5e9 people, with 2500 kcal diets, and 33% of their protein derive from animal material. Furthermore, they assume water content is roughly 20% rather than our 70% estimate. They come to a final low end estimate for direct human use of plants as cited:\n",
      ">_Overall. We estimate that humans use approximately 7.2 Pg of organic material directly each year-about three percent of the biosphere's total annual NPP._\n",
      "\n",
      "However, under Vitousek et al.'s high end calculations (they use potential plant biomass that could be there had humans not converted it to cities and other land use), \n",
      ">_These land-use changes contribute 17.5 Pg of organic matter to the total humans affect each year, yielding a final sum of 58.1 Pg on land. The losses raise the calculated potential NPP of terrestrial ecosystems to 149.6 Pg (132.1 + 17.5 here). Thus, humans now appropriate nearly 40% (58.1/149.6 Pg = 38.8%) of potential terrestrial productivity, or 25% [60.1/(149.8 + 92.4) Pg =  24.8%] of the potential global terrestrialand aquatic NPP. If we use Olson et al.'s base and leave out losses of NPP from converting land to cropland, estimated human appropriation of NPP on land rises to 62.7 Pg, **or about 41% (62.7/152.4 = 41.4%) of potential terrestrial NPP**. Furthermore, humans also affect much of the other 60% of terrestrial NPP, often heavily._\n",
      "\n",
      "This 41% estimate is substantially more and surprising."
     ]
    }
   ],
   "metadata": {}
  }
 ]
}