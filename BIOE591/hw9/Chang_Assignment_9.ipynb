{
 "metadata": {
  "name": "",
  "signature": "sha256:04a7a84102580975781dacd08ce6fa385213243385a6f1d17fbff780a3e33ab2"
 },
 "nbformat": 3,
 "nbformat_minor": 0,
 "worksheets": [
  {
   "cells": [
    {
     "cell_type": "markdown",
     "metadata": {},
     "source": [
      "#Title: BIOE 591 Homework 9\n",
      "##Author: Tony Chang\n",
      "####Abstract: Assignment 9 for ecological modeling covering land use and climate"
     ]
    },
    {
     "cell_type": "markdown",
     "metadata": {},
     "source": [
      "##7. LAND USE AND CLIMATE\n",
      "####Q: Suppose that 20% of the land area of Earth is deforested and the area subsequently desertifies. By about how much would Earth's average surface temperature change?"
     ]
    },
    {
     "cell_type": "code",
     "collapsed": false,
     "input": [
      "'''\n",
      "Variables:\n",
      "a: albedo of Earth (entire)\n",
      "a = solar flux reflected from Earth to space/ solar flux incident on Earth\n",
      "R_s: albedo of Earth (surface)\n",
      "R_s = solar flux reflected from Earth's surface to the atmosphere/ solar flux incident on Earth's surface\n",
      "R_a: albedo of Earth (atmosphere)\n",
      "A_s: absorption of surface\n",
      "A_a: absorption of atmosphere\n",
      "\n",
      "T_a: transmission coefficient of atmosphere\n",
      "T_a = 1 - R_a - A_a\n",
      "\n",
      "a = R_a + (((1 - R_a -A_a)**2) * R_s)/(1 - (R_a * R_s))\n",
      "\n",
      "f: total fraction of the incoming flux that is absorbed in the atmosphere\n",
      "\n",
      "f = A_a * (1 + ((1 - R_a - A_a)*R_s)/(1 - R_a*R_s))\n",
      "'''"
     ],
     "language": "python",
     "metadata": {},
     "outputs": [
      {
       "metadata": {},
       "output_type": "pyout",
       "prompt_number": 1,
       "text": [
        "\"\\nVariables:\\na: albedo of Earth (entire)\\na = solar flux reflected from Earth to space/ solar flux incident on Earth\\nR_s: albedo of Earth (surface)\\nR_s = solar flux reflected from Earth's surface to the atmosphere/ solar flux incident on Earth's surface\\nR_a: albedo of Earth (atmosphere)\\nA_s: absorption of surface\\nA_a: absorption of atmosphere\\n\\nT_a: transmission coefficient of atmosphere\\nT_a = 1 - R_a - A_a\\n\\na = R_a + (((1 - R_a -A_a)**2) * R_s)/(1 - (R_a * R_s))\\n\\nf: total fraction of the incoming flux that is absorbed in the atmosphere\\n\\nf = A_a * (1 + ((1 - R_a - A_a)*R_s)/(1 - R_a*R_s))\\n\""
       ]
      }
     ],
     "prompt_number": 1
    },
    {
     "cell_type": "code",
     "collapsed": false,
     "input": [
      "a = 0.3\n",
      "f = 86/343 \n",
      "\n",
      "#Direct measurements of the other variables\n",
      "\n",
      "A_a = 0.23\n",
      "R_s = 0.16\n",
      "R_a = 0.26\n",
      "\n",
      "R_s_forest = 0.15\n",
      "R_s_desert = 0.25\n",
      "\n",
      "#total surface area of the earth that is forest is 6%\n",
      "F_s = 0.06\n",
      "delta_R_s = F_s*(R_s_desert-R_s_forest)\n",
      "delta_a = 0.26*delta_R_s\n",
      "\n",
      "a_new = a + delta_a\n",
      "\n",
      "#using equations from Problem III.6\n",
      "def T_n(n, T_o):\n",
      "\treturn(((n+1)**(1/4))*T_o)\n",
      "\t\n",
      "#determine a 2 level atmosphere energy balance\n",
      "omega = 1372 #radiation from sun (W/m2)\n",
      "sigma = 5.67e-8 #Stefan-Boltzman constant (J/m2 sec K4)\n",
      "#a = 0.3 #Earth's albedo (%) ###(a=0.39  Hartmann 2005; Freedman and Kaufmann 2002)\n",
      "a = a_new\n",
      "n = 2 #number of layers represented in atmosphere\n",
      " \n",
      "T_o = ((omega*(1-a))/(4*sigma))**(1/4)\n",
      "T_s = T_n(n, T_o)\n",
      "print(\"The estimated mean surface temperature of Earth based on the initial model is: %0.1f K \\n\"%(T_s))\n",
      "\n",
      "#adding more parameters to account for the overestimate.\n",
      "#Considerations are: 1. energy absorption by atmosphere, 2. latent heat flux, 3. Narrow band allowed to penetrate atmosphere\n",
      "\n",
      "F_w = 20 #portion of IR emitted from the surface that is radiated directly to space\n",
      "F_s = 86 #portion of the solar flux absorbed in the atmosphere\n",
      "F_s = 0.55*(omega/4) - a*(omega/4)\n",
      "F_e = 80 #flux of latent heat leaving Earth's surface\n",
      "F_c = 17 #flux of convective heat leaving Earth's surface\n",
      "\n",
      "W = (a*(omega/4)) + (sigma*T_o**4) + F_w - (omega/4)\n",
      "W = 0 #initially ignoring the waste heat\n",
      "T_o_hat = (((omega*(1-a))/(4*sigma)) - (F_w/sigma))**(1/4)\n",
      "T_1_hat = (((2*sigma*(T_o_hat**4)) - (0.5*F_e) - (0.7*F_s))/sigma)**(1/4)\n",
      "T_s_hat = (((2*sigma*(T_1_hat**4)) - (sigma*(T_o_hat**4)) + F_w - F_c - (0.5*F_e) - (0.3*F_s))/sigma)**(1/4)\n",
      "\n",
      "print(' T_o: %0.1f K \\n T_1: %0.1f K \\n T_s: %0.1f K \\n' %(T_o_hat,T_1_hat,T_s_hat))"
     ],
     "language": "python",
     "metadata": {},
     "outputs": [
      {
       "output_type": "stream",
       "stream": "stdout",
       "text": [
        "The estimated mean surface temperature of Earth based on the initial model is: 335.5 K \n",
        "\n",
        " T_o: 249.5 K \n",
        " T_1: 278.2 K \n",
        " T_s: 289.2 K \n",
        "\n"
       ]
      }
     ],
     "prompt_number": 2
    },
    {
     "cell_type": "markdown",
     "metadata": {},
     "source": [
      "These temperature values agree with the values found in the text. Under albedo measurements of 0.3, we attain the following results:"
     ]
    },
    {
     "cell_type": "markdown",
     "metadata": {},
     "source": [
      "The estimated mean surface temperature of Earth based on an albedo of 0.3 is: 335.7 K \n",
      "- $T_o$: 249.6 K\n",
      "- $T_1$: 278.3 K \n",
      "- $T_s$: 289.4 K \n"
     ]
    },
    {
     "cell_type": "markdown",
     "metadata": {},
     "source": [
      "So there is an increase of surface temperature of roughly 0.2 K. "
     ]
    },
    {
     "cell_type": "markdown",
     "metadata": {},
     "source": [
      "##Exercise 4: Climate is affected by the $CO_2$ content of the atmosphere (see Problem III.8). By roughly what percentage will the atmospheric concentration of $CO_2$ immediately increase if the deforestation and subsequent burning of the cleared vegetation occur so rapidly that ocean uptake of $CO_2$ can be ignored? See Appendix, Section XII.2; assume that only tropical and temperate forests are cut and that for every 3 $km^2$ of tropical deforestation, there is 1 $km^2$ of temperate deforestation."
     ]
    },
    {
     "cell_type": "markdown",
     "metadata": {},
     "source": [
      "For this question, we are trying to determine how much biomass loss from tropical and temperate forests would result in a loss of NPP that is equivalent to the NPP of the ocean."
     ]
    },
    {
     "cell_type": "code",
     "collapsed": false,
     "input": [
      "#total tropical forest area \n",
      "A_trf = 24.5e12 #m^2\n",
      "npp_trf_by_A = 0.83 #kg(C)/m^2/yr\n",
      "npp_trf = A_trf * npp_trf_by_A #kg/yr\n",
      "\n",
      "#total temperate forest area\n",
      "A_tef = 12.0e12 #m^2\n",
      "npp_tef_by_A = 0.56 #kg(C)/m^2/yr\n",
      "npp_tef = A_tef * npp_tef_by_A\n",
      "\n",
      "#total ocean area\n",
      "A_ocean = 332e12\n",
      "npp_ocean_by_A = 0.057\n",
      "npp_ocean = A_ocean * npp_ocean_by_A\n",
      "\n",
      "#the question first requires solving how much tropical and temperate forest area would have to be deforested to equal the npp of the ocean, where tropical to temperate forest deforestation occurs at a 3:1 ratio\n",
      "\n",
      "A_deforest = npp_ocean/(3 * npp_trf_by_A + npp_tef_by_A)\n",
      "\n",
      "#solve for the total mass of plant burned\n",
      "trop_bio_area = 18.8 #kg(c)/m2\n",
      "trop_biomass = 3*A_deforest*trop_bio_area\n",
      "\n",
      "temp_bio_area = 14.6 #kg(c)/m2\n",
      "temp_biomass = A_deforest*temp_bio_area\n",
      "\n",
      "total_biomass_lost = trop_biomass+temp_biomass\n",
      "\n",
      "#total CO2 in atmosphere = 735e12 kg(C)\n",
      "C_a = 735e12\n",
      "\n",
      "print('Total tropical and temperate forest area that would be lost to negate ocean carbon uptake is:')\n",
      "print('Tropical Forest Area: %.1e m^2\\nTemperate Forest Area: %.1e m^2'%(A_deforest*3, A_deforest) )"
     ],
     "language": "python",
     "metadata": {},
     "outputs": [
      {
       "output_type": "stream",
       "stream": "stdout",
       "text": [
        "Total tropical and temperate forest area that would be lost to negate ocean carbon uptake is:\n",
        "Tropical Forest Area: 1.9e+13 m^2\n",
        "Temperate Forest Area: 6.2e+12 m^2\n"
       ]
      }
     ],
     "prompt_number": 23
    },
    {
     "cell_type": "markdown",
     "metadata": {},
     "source": [
      "Next, we need to figure out how much water content is in the wood that has be cut down, and then find the amount (mass) of $CO_2$ that would be released from burning. We can refer to the EPA 2008 emission guide to let us know how much $CO_2$ might be emitted per unit mass of wood. "
     ]
    },
    {
     "cell_type": "code",
     "collapsed": false,
     "input": [
      "from IPython.core.display import Image\n",
      "Image(filename=\"/media/shared/Courses/BIOE591/hw9/EPA_table.png\")"
     ],
     "language": "python",
     "metadata": {},
     "outputs": [
      {
       "metadata": {},
       "output_type": "pyout",
       "png": "[encoded data removed]",
       "prompt_number": 17,
       "text": [
        "<IPython.core.display.Image at 0x7f08da683f28>"
       ]
      }
     ],
     "prompt_number": 17
    },
    {
     "cell_type": "code",
     "collapsed": false,
     "input": [
      "C_mass_wood_ratio = 1443.67/907.185 #Wood and wood waste(12% moisture)\n",
      "C_mass_hardwood_ratio = 1130.76/907.185 #Kraft black liquor (North American hardwood)\n",
      "C_mass_softwood_ratio = 1164.02/907.185 #Kraft black liquor (North American softwood)\n",
      "\n",
      "CO2_burned_wood = total_biomass_lost*C_mass_wood_ratio\n",
      "CO2_burned_hardwood = total_biomass_lost*C_mass_hardwood_ratio\n",
      "CO2_burned_softwood = total_biomass_lost*C_mass_softwood_ratio\n",
      "\n",
      "percent_change_wood = CO2_burned_wood/C_a\n",
      "percent_change_hardwood = CO2_burned_hardwood/C_a\n",
      "percent_change_softwood = CO2_burned_softwood/C_a\n",
      "\n",
      "print('The total percent change of burning %0.1e kg(C) of deforested wood would result in an increase in atmospheric CO2:'%(total_biomass_lost)) \n",
      "print('Wood and Wood Waste: %0.1f%% \\nN.A. Hardwood: %0.1f%% \\nN.A. Softwood: %0.1f%%'%(percent_change_wood*100,percent_change_hardwood*100,percent_change_softwood*100))"
     ],
     "language": "python",
     "metadata": {},
     "outputs": [
      {
       "output_type": "stream",
       "stream": "stdout",
       "text": [
        "The total percent change of burning 4.4e+14 kg(C) of deforested wood would result in an increase in atmospheric CO2:\n",
        "Wood and Wood Waste: 95.4% \n",
        "N.A. Hardwood: 74.7% \n",
        "N.A. Softwood: 76.9%\n"
       ]
      }
     ],
     "prompt_number": 21
    },
    {
     "cell_type": "markdown",
     "metadata": {},
     "source": [
      "So, depending on the wood types being burned, we can assume that loss of the $1.9 x 10^{13} m^2$ of tropical forest and $6.2 x 10^{12} m^2$ of temperate forest loss would result in an approximate **74-95%** increase in the total atmospheric $CO_2$ pool."
     ]
    },
    {
     "cell_type": "code",
     "collapsed": false,
     "input": [],
     "language": "python",
     "metadata": {},
     "outputs": []
    }
   ],
   "metadata": {}
  }
 ]
}